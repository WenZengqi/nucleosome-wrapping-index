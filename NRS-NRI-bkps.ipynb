{
 "cells": [
  {
   "cell_type": "code",
   "execution_count": null,
   "id": "0a30290b",
   "metadata": {},
   "outputs": [],
   "source": [
    "library(magrittr)\n",
    "\n",
    "library(corrplot)\n",
    "\n",
    "library(preprocessCore)\n",
    "\n",
    "library(DNAcopy)\n",
    "\n",
    "library(RColorBrewer)\n",
    "\n",
    "library(reshape)\n",
    "\n",
    "library(ggplot2)"
   ]
  },
  {
   "cell_type": "code",
   "execution_count": null,
   "id": "cb83af66",
   "metadata": {},
   "outputs": [],
   "source": [
    "##vecterized function to calculate nucleosome wrapping score\n",
    "getnrs <- function(dataframe){\n",
    "    df <- dataframe\n",
    "    matrix <- as.matrix(df[,-(1:3)])\n",
    "    nrow <- nrow(matrix)\n",
    "    ncol <- ncol(matrix)\n",
    "    per <- round(nrow/100)\n",
    "    nrs <- matrix[,-ncol]\n",
    "    for (i in 1:nrow){  ## for each bin, calculate NRS for each bkp\n",
    "        nrsi <- rep(NaN, ncol-1)\n",
    "        rowi <- matrix[i,]\n",
    "        sumi <- sum(matrix[i,])\n",
    "        for (j in 1:(ncol-1)){\n",
    "            nrsi[j] <- (sum(rowi[(j+1):ncol])-sum(rowi[1:j]))/sumi\n",
    "            }\n",
    "        nrs[i,] <- nrsi\n",
    "        \n",
    "        ###print progression\n",
    "        if((i%%per) == 0 ){\n",
    "            message(paste0(round(i/nrow * 100), '% completed'))\n",
    "        }\n",
    "    }\n",
    "    nrs <- as.data.frame(cbind(df[,1:3],nrs)) \n",
    "    return(nrs)\n",
    "}"
   ]
  },
  {
   "cell_type": "code",
   "execution_count": null,
   "id": "e53b84ad",
   "metadata": {},
   "outputs": [],
   "source": [
    "genome <- \"mm10\""
   ]
  },
  {
   "cell_type": "code",
   "execution_count": null,
   "id": "5d8f13a1",
   "metadata": {},
   "outputs": [],
   "source": [
    "genome_file <- \"/data/zqwen/genome/mm10/mm10.chrom.filter.sort.sizes\""
   ]
  },
  {
   "cell_type": "code",
   "execution_count": null,
   "id": "409e5ef4",
   "metadata": {},
   "outputs": [],
   "source": [
    "bin <- \"100kb\""
   ]
  },
  {
   "cell_type": "code",
   "execution_count": null,
   "id": "cdc831dc",
   "metadata": {},
   "outputs": [],
   "source": [
    "binsize <- 100000"
   ]
  },
  {
   "cell_type": "code",
   "execution_count": null,
   "id": "4385d2a2",
   "metadata": {},
   "outputs": [],
   "source": [
    "histone <- \"1-R1-crosslink-MNCUT-30min-1\" ##sample prefix"
   ]
  },
  {
   "cell_type": "code",
   "execution_count": null,
   "id": "f2b4c899",
   "metadata": {},
   "outputs": [],
   "source": [
    "hist.dir <- paste0(\"/data/zqwen/subnucleosome/revision/06.nri/\")"
   ]
  },
  {
   "cell_type": "code",
   "execution_count": null,
   "id": "7714937c",
   "metadata": {},
   "outputs": [],
   "source": [
    "countfile <- paste0(hist.dir, histone, \".\", genome, \".\", bin, \".raw.counts.txt\")"
   ]
  },
  {
   "cell_type": "code",
   "execution_count": null,
   "id": "b7ffbbf9",
   "metadata": {},
   "outputs": [],
   "source": [
    "rawcounts <- read.delim(countfile, header = TRUE)"
   ]
  },
  {
   "cell_type": "code",
   "execution_count": null,
   "id": "b707e429",
   "metadata": {},
   "outputs": [],
   "source": [
    "names(rawcounts)[1:3] <- c(\"Chr\", \"Start\", \"End\")"
   ]
  },
  {
   "cell_type": "code",
   "execution_count": null,
   "id": "c6ed928b",
   "metadata": {},
   "outputs": [],
   "source": [
    "bincounts <- rowSums(rawcounts[,4:ncol(rawcounts)])"
   ]
  },
  {
   "cell_type": "code",
   "execution_count": null,
   "id": "0e49df02",
   "metadata": {},
   "outputs": [],
   "source": [
    "index <- (bincounts > 0)"
   ]
  },
  {
   "cell_type": "code",
   "execution_count": null,
   "id": "40b005b8",
   "metadata": {},
   "outputs": [],
   "source": [
    "rawcounts <- rawcounts[index,]"
   ]
  },
  {
   "cell_type": "markdown",
   "id": "b37cb232",
   "metadata": {},
   "source": [
    "### Calculate nrs for each bin"
   ]
  },
  {
   "cell_type": "code",
   "execution_count": null,
   "id": "cdaf3424",
   "metadata": {
    "scrolled": true
   },
   "outputs": [],
   "source": [
    "system.time(nrs <- getnrs(rawcounts))"
   ]
  },
  {
   "cell_type": "markdown",
   "id": "5dba5e68",
   "metadata": {},
   "source": [
    "### Register the RAW nrs80-nrs160 data into bedGraph files"
   ]
  },
  {
   "cell_type": "code",
   "execution_count": null,
   "id": "861b249c",
   "metadata": {},
   "outputs": [],
   "source": [
    "for (i in 9:17){\n",
    "    \n",
    "    message(\"Writing raw: \", names(nrs)[i])\n",
    "    \n",
    "    rawnrs <- nrs[,c(1:3, i)]\n",
    "    \n",
    "    filename <- paste0(bin.dir,  histone, \".mm10.\", bin, \".\", names(nrs)[i],\".bdg\") \n",
    "        \n",
    "    write.table(rawnrs, filename, sep= \"\\t\", row.names=FALSE, quote=FALSE, col.names = FALSE)\n",
    "    \n",
    "}"
   ]
  },
  {
   "cell_type": "markdown",
   "id": "74b8aa6a",
   "metadata": {},
   "source": [
    "## z-score transform of nrs80-nrs160"
   ]
  },
  {
   "cell_type": "code",
   "execution_count": null,
   "id": "f2315d16",
   "metadata": {},
   "outputs": [],
   "source": [
    "nri <- scale(nrs[,9:17])"
   ]
  },
  {
   "cell_type": "code",
   "execution_count": null,
   "id": "826bdad9",
   "metadata": {},
   "outputs": [],
   "source": [
    "nri <- cbind(nrs[,1:3], nri)"
   ]
  },
  {
   "cell_type": "code",
   "execution_count": null,
   "id": "10aeab4b",
   "metadata": {},
   "outputs": [],
   "source": [
    "names(nri) <- gsub(\"nrs\",\"nri\", names(nri), fixed = T)"
   ]
  },
  {
   "cell_type": "markdown",
   "id": "0b742315",
   "metadata": {},
   "source": [
    "### Register the z-score nrs nri80-nri160 data into bedGraph files"
   ]
  },
  {
   "cell_type": "code",
   "execution_count": null,
   "id": "05ea089f",
   "metadata": {
    "scrolled": false
   },
   "outputs": [],
   "source": [
    "for (i in 4:12){\n",
    "    \n",
    "    message(\"Writing nri: \", names(nri)[i])\n",
    "    \n",
    "    rawnrs <- nri[,c(1:3, i)]\n",
    "    \n",
    "    filename <- paste0(bin.dir,  histone, \".mm10.\", bin, \".\", names(nri)[i],\".bdg\")\n",
    "        \n",
    "    write.table(rawnrs, filename, sep= \"\\t\", row.names=FALSE, quote=FALSE, col.names = FALSE)\n",
    "    \n",
    "}"
   ]
  },
  {
   "cell_type": "markdown",
   "id": "6de17939",
   "metadata": {},
   "source": [
    "### Loess smooth nri140"
   ]
  },
  {
   "cell_type": "code",
   "execution_count": null,
   "id": "00d197dd",
   "metadata": {},
   "outputs": [],
   "source": [
    "nri140 <- nri[,c(\"Chr\", \"Start\", \"End\", \"nri140bp\")]"
   ]
  },
  {
   "cell_type": "code",
   "execution_count": null,
   "id": "a425b8a7",
   "metadata": {},
   "outputs": [],
   "source": [
    "chrs <- unique(nri140$Chr)"
   ]
  },
  {
   "cell_type": "code",
   "execution_count": null,
   "id": "bfd67040",
   "metadata": {},
   "outputs": [],
   "source": [
    "binnum <- 10"
   ]
  },
  {
   "cell_type": "code",
   "execution_count": null,
   "id": "a9649704",
   "metadata": {
    "scrolled": true
   },
   "outputs": [],
   "source": [
    "Loess=data.frame()\n",
    "\n",
    "for(Chr in chrs){\n",
    "    message(\"Current chrom: \" , Chr)\n",
    "    subnrs <- nri140[nri140$Chr == Chr,]\n",
    "    lspan=binnum*binsize/(max(subnrs$Start)-min(subnrs$Start)) \n",
    "    nrsfit=loess(subnrs[,4] ~ subnrs$Start, span=lspan, surface = c(\"direct\"))\n",
    "    nrilsm <- data.frame(c(rep(Chr,times=nrsfit$n)), nrsfit$x, subnrs[which(subnrs$Start %in% nrsfit$x), 3], nrsfit$fitted)\n",
    "    if(nrow(Loess)!=0){ Loess = rbind(Loess,nrilsm)}\n",
    "    if(nrow(Loess)==0){ Loess = nrilsm}\n",
    "    }\n",
    "\n",
    "names(Loess)=c(\"Chr\" , \"Start\" , \"End\" , \"Fitted\")"
   ]
  },
  {
   "cell_type": "code",
   "execution_count": null,
   "id": "58aa554f",
   "metadata": {},
   "outputs": [],
   "source": [
    "bdgname <- paste0(bin.dir,  histone, \".mm10.\", bin, \".\", \"nri140bp.\", binnum, \"bins.smoothed.bdg\")"
   ]
  },
  {
   "cell_type": "code",
   "execution_count": null,
   "id": "86cf8337",
   "metadata": {},
   "outputs": [],
   "source": [
    "write.table(Loess, bdgname, sep= \"\\t\", row.names=FALSE, quote=FALSE, col.names = FALSE)"
   ]
  },
  {
   "cell_type": "code",
   "execution_count": null,
   "id": "b968ef2d",
   "metadata": {},
   "outputs": [],
   "source": [
    "bwname <- paste0(bin.dir,  histone, \".mm10.\", bin, \".\", \"nri140bp.\", binnum, \"bins.smoothed.bw\")"
   ]
  },
  {
   "cell_type": "code",
   "execution_count": null,
   "id": "08a26af3",
   "metadata": {},
   "outputs": [],
   "source": [
    "system2(\"bedGraphToBigWig\", paste(bdgname, genome_file, bwname, sep=\" \"), wait = TRUE, stderr = TRUE, stdout = TRUE)"
   ]
  }
 ],
 "metadata": {
  "kernelspec": {
   "display_name": "R [conda env:chip]",
   "language": "R",
   "name": "conda-env-chip-r"
  },
  "language_info": {
   "codemirror_mode": "r",
   "file_extension": ".r",
   "mimetype": "text/x-r-source",
   "name": "R",
   "pygments_lexer": "r",
   "version": "4.2.3"
  }
 },
 "nbformat": 4,
 "nbformat_minor": 5
}
