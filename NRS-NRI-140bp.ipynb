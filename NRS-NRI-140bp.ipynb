{
 "cells": [
  {
   "cell_type": "code",
   "execution_count": null,
   "id": "0a30290b",
   "metadata": {
    "scrolled": true
   },
   "outputs": [],
   "source": [
    "library(magrittr)\n",
    "\n",
    "library(corrplot)\n",
    "\n",
    "library(preprocessCore)\n",
    "\n",
    "#library(DNAcopy)\n",
    "\n",
    "library(RColorBrewer)\n",
    "\n",
    "library(reshape)\n",
    "\n",
    "library(ggplot2)"
   ]
  },
  {
   "cell_type": "code",
   "execution_count": null,
   "id": "0fc3e31a",
   "metadata": {},
   "outputs": [],
   "source": [
    "bin <- \"10kb\""
   ]
  },
  {
   "cell_type": "code",
   "execution_count": null,
   "id": "20efc19d",
   "metadata": {},
   "outputs": [],
   "source": [
    "binsize <- 10000"
   ]
  },
  {
   "cell_type": "code",
   "execution_count": null,
   "id": "e53b84ad",
   "metadata": {},
   "outputs": [],
   "source": [
    "genome <- \"mm10\""
   ]
  },
  {
   "cell_type": "code",
   "execution_count": null,
   "id": "5d8f13a1",
   "metadata": {},
   "outputs": [],
   "source": [
    "genome_file <-  \"/data/zqwen/genome/mm10/mm10.chrom.filter.sort.sizes\" "
   ]
  },
  {
   "cell_type": "code",
   "execution_count": null,
   "id": "f2b4c899",
   "metadata": {},
   "outputs": [],
   "source": [
    "nri.dir <- '/data/zqwen/subnucleosome/repli1/06.nri/'"
   ]
  },
  {
   "cell_type": "code",
   "execution_count": null,
   "id": "5ec8ec7d",
   "metadata": {},
   "outputs": [],
   "source": [
    "plot.dir <- '/data/zqwen/subnucleosome/repli1/07.plot/'"
   ]
  },
  {
   "cell_type": "code",
   "execution_count": null,
   "id": "0f1a1733",
   "metadata": {},
   "outputs": [],
   "source": [
    "fn <- \"trp-60-pd\" ## prefix of file"
   ]
  },
  {
   "cell_type": "code",
   "execution_count": null,
   "id": "7714937c",
   "metadata": {},
   "outputs": [],
   "source": [
    "countfile <- paste0(nri.dir, fn, \".\", genome, \".\", bin, \".raw.counts.txt\")"
   ]
  },
  {
   "cell_type": "code",
   "execution_count": null,
   "id": "b7ffbbf9",
   "metadata": {},
   "outputs": [],
   "source": [
    "df <- read.delim(countfile, header = TRUE)"
   ]
  },
  {
   "cell_type": "code",
   "execution_count": null,
   "id": "b707e429",
   "metadata": {},
   "outputs": [],
   "source": [
    "names(df)<- c(\"Chr\", \"Start\", \"End\", \"g140\", \"g250\")"
   ]
  },
  {
   "cell_type": "code",
   "execution_count": null,
   "id": "c6ed928b",
   "metadata": {},
   "outputs": [],
   "source": [
    "bincounts <- rowSums(df[,4:ncol(df)])"
   ]
  },
  {
   "cell_type": "code",
   "execution_count": null,
   "id": "0e49df02",
   "metadata": {},
   "outputs": [],
   "source": [
    "index <- (bincounts > 0)"
   ]
  },
  {
   "cell_type": "code",
   "execution_count": null,
   "id": "40b005b8",
   "metadata": {},
   "outputs": [],
   "source": [
    "df <- df[index,]"
   ]
  },
  {
   "cell_type": "markdown",
   "id": "b37cb232",
   "metadata": {},
   "source": [
    "### Calculate nrs for each bin"
   ]
  },
  {
   "cell_type": "code",
   "execution_count": null,
   "id": "ad027483",
   "metadata": {},
   "outputs": [],
   "source": [
    "df <- within(df, nrs <- (g250 - g140)/(g250 + g140))"
   ]
  },
  {
   "cell_type": "code",
   "execution_count": null,
   "id": "ec98527b",
   "metadata": {},
   "outputs": [],
   "source": [
    "df$nri <- scale(df$nrs) %>% as.vector()"
   ]
  },
  {
   "cell_type": "markdown",
   "id": "5dba5e68",
   "metadata": {},
   "source": [
    "### Register the smoothed nrs and nri into bedGraph files"
   ]
  },
  {
   "cell_type": "code",
   "execution_count": null,
   "id": "861b249c",
   "metadata": {
    "scrolled": true
   },
   "outputs": [],
   "source": [
    "for (value in c(\"nrs\",\"nri\")){\n",
    "    \n",
    "    message(\"Writing raw: \", value)\n",
    "    \n",
    "    dfsub <- df[,c(\"Chr\" , \"Start\" , \"End\" , value)]\n",
    "    \n",
    "    filename <- paste0(nri.dir,  fn, \".\", genome, \".\", bin, \".\", value,\".bdg\") \n",
    "        \n",
    "    write.table(dfsub, filename, sep= \"\\t\", row.names=FALSE, quote=FALSE, col.names = FALSE)\n",
    "    \n",
    "    message(\"Loess smoothing: \", value)\n",
    "    \n",
    "    chrs <- unique(dfsub$Chr)\n",
    "    \n",
    "    binnum <- 10\n",
    "    \n",
    "    Loess=data.frame()\n",
    "\n",
    "    for(Chr in chrs){\n",
    "        message(\"Current chrom: \" , Chr)\n",
    "        subnrs <- dfsub[dfsub$Chr == Chr,]\n",
    "        lspan=binnum*binsize/(max(subnrs$Start)-min(subnrs$Start)) \n",
    "        nrsfit=loess(subnrs[,4] ~ subnrs$Start, span=lspan, surface = c(\"direct\"))\n",
    "        nrilsm <- data.frame(c(rep(Chr,times=nrsfit$n)), nrsfit$x, subnrs[which(subnrs$Start %in% nrsfit$x), 3], nrsfit$fitted)\n",
    "        if(nrow(Loess)!=0){ Loess = rbind(Loess,nrilsm)}\n",
    "        if(nrow(Loess)==0){ Loess = nrilsm}\n",
    "        }\n",
    "\n",
    "    names(Loess)=c(\"Chr\" , \"Start\" , \"End\" , \"Fitted\")\n",
    "    \n",
    "    bdgname <- paste0(nri.dir,  fn, \".\", genome, \".\", bin, \".\", value, \".\", binnum, \"bins.smoothed.bdg\")\n",
    "    \n",
    "    write.table(Loess, bdgname, sep= \"\\t\", row.names=FALSE, quote=FALSE, col.names = FALSE)\n",
    "    \n",
    "    bwname <- paste0(nri.dir,  fn, \".\", genome, \".\", bin, \".\", value, \".\", binnum, \"bins.smoothed.bw\")\n",
    "    \n",
    "    system2(\"bedGraphToBigWig\", paste(bdgname, genome_file, bwname, sep=\" \"), wait = TRUE, stderr = TRUE, stdout = TRUE)\n",
    "}"
   ]
  }
 ],
 "metadata": {
  "kernelspec": {
   "display_name": "R [conda env:chip]",
   "language": "R",
   "name": "conda-env-chip-r"
  },
  "language_info": {
   "codemirror_mode": "r",
   "file_extension": ".r",
   "mimetype": "text/x-r-source",
   "name": "R",
   "pygments_lexer": "r",
   "version": "4.2.3"
  }
 },
 "nbformat": 4,
 "nbformat_minor": 5
}
